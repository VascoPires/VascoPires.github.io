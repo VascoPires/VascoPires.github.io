{
 "cells": [
  {
   "cell_type": "markdown",
   "metadata": {},
   "source": [
    "# Leaflet cluster map of talk locations\n",
    "\n",
    "Run this from the _talks/ directory, which contains .md files of all your talks. This scrapes the location YAML field from each .md file, geolocates it with geopy/Nominatim, and uses the getorg library to output data, HTML, and Javascript for a standalone cluster map."
   ]
  },
  {
   "cell_type": "code",
   "execution_count": 1,
   "metadata": {
    "collapsed": false
   },
   "outputs": [
    {
     "name": "stdout",
     "output_type": "stream",
     "text": [
      "Iywidgets and ipyleaflet support disabled. You must be in a Jupyter notebook to use this feature.\n",
      "Error raised:\n",
      "No module named 'ipyleaflet'\n",
      "Check that you have enabled ipyleaflet in Jupyter with:\n",
      "    jupyter nbextension enable --py ipyleaflet\n"
     ]
    }
   ],
   "source": [
    "#!pip install getorg --upgrade\n",
    "import glob\n",
    "import getorg\n",
    "import geopy\n",
    "from geopy import Nominatim"
   ]
  },
  {
   "cell_type": "code",
   "execution_count": 2,
   "metadata": {
    "collapsed": false
   },
   "outputs": [],
   "source": [
    "g = glob.glob(\"*.md\")"
   ]
  },
  {
   "cell_type": "code",
   "execution_count": 3,
   "metadata": {},
   "outputs": [
    {
     "data": {
      "text/plain": [
       "['2020-engBrasil2020.md',\n",
       " '2020-EUGLOH.md',\n",
       " '2021-SPB9.md',\n",
       " '2022-AlpbachS.md',\n",
       " '2022-AlpbachW.md',\n",
       " '2022-M5AG2022.md',\n",
       " '2023-Ab2023A.md',\n",
       " '2023-Ab2023P1.md',\n",
       " '2023-Ab2023P2.md',\n",
       " '2023-AJP2023.md',\n",
       " '2023-EGU23.md',\n",
       " '2023-IAMaC2023.md',\n",
       " '2023-IJUP2023.md',\n",
       " '2023-SMP2023.md',\n",
       " '2023-SPB10.md',\n",
       " '2023-VBE20231.md',\n",
       " '2023-VBE20232.md',\n",
       " '2024-02-07-ECCS21.md',\n",
       " '2024-ECCS21.md',\n",
       " '2024-IAA2024.md',\n",
       " '2024-M5Finland.md']"
      ]
     },
     "execution_count": 3,
     "metadata": {},
     "output_type": "execute_result"
    }
   ],
   "source": [
    "g"
   ]
  },
  {
   "cell_type": "code",
   "execution_count": 4,
   "metadata": {
    "collapsed": true
   },
   "outputs": [],
   "source": [
    "geocoder = Nominatim(user_agent=\"http\")\n",
    "location_dict = {}\n",
    "location = \"\"\n",
    "permalink = \"\"\n",
    "title = \"\""
   ]
  },
  {
   "cell_type": "code",
   "execution_count": 5,
   "metadata": {
    "collapsed": false
   },
   "outputs": [
    {
     "name": "stdout",
     "output_type": "stream",
     "text": [
      " \n",
      " None\n",
      " \n",
      " None\n",
      "Porto, Portugal \n",
      " Porto, Portugal\n",
      "Alpbach, Austria \n",
      " Alpbach, Bezirk Kufstein, Tirol, 6236, Österreich\n",
      "Libin, Belgium \n",
      " Libin, Neufchâteau, Luxembourg, Wallonie, 6890, België / Belgique / Belgien\n",
      "Bremen, Germany \n",
      " Bremen, Deutschland\n",
      "Porto, Portugal \n",
      " Porto, Portugal\n",
      "Porto, Portugal \n",
      " Porto, Portugal\n",
      "Porto, Portugal \n",
      " Porto, Portugal\n",
      "Braga, Portugal \n",
      " Braga, Portugal\n",
      "Vienna, Austria \n",
      " Wien, Österreich\n",
      "São Paulo, Brazil \n",
      " São Paulo, Capanema, Região Geográfica Imediata de Capanema, Região Geográfica Intermediária de Castanhal, Pará, Região Norte, 68700-540, Brasil\n",
      "Porto, Portugal \n",
      " Porto, Portugal\n",
      "Aveiro, Portugal \n",
      " Aveiro, Portugal\n",
      "Figueira da Foz, Portugal \n",
      " Figueira da Foz, Coimbra, Portugal\n",
      "Porto, Portugal \n",
      " Porto, Portugal\n",
      "Porto, Portugal \n",
      " Porto, Portugal\n",
      "Nantes, France \n",
      " Nantes, Loire-Atlantique, Pays de la Loire, France métropolitaine, France\n",
      "Nantes, France \n",
      " Nantes, Loire-Atlantique, Pays de la Loire, France métropolitaine, France\n",
      "Cascais, Portugal \n",
      " Cascais, Lisboa, Portugal\n",
      "Alto, Finland \n",
      " Alto, 8 A, Äyritie, Aerola, Veromies, Aviapoliksen suuralue, Vantaa, Helsingin seutukunta, Uusimaa, Etelä-Suomen aluehallintovirasto, Manner-Suomi, 01510, Suomi / Finland\n"
     ]
    }
   ],
   "source": [
    "\n",
    "for file in g:\n",
    "    with open(file, 'r') as f:\n",
    "        lines = f.read()\n",
    "        if lines.find('location: \"') > 1:\n",
    "            loc_start = lines.find('location: \"') + 11\n",
    "            lines_trim = lines[loc_start:]\n",
    "            loc_end = lines_trim.find('\"')\n",
    "            location = lines_trim[:loc_end]\n",
    "                            \n",
    "           \n",
    "        location_dict[location] = geocoder.geocode(location)\n",
    "        print(location, \"\\n\", location_dict[location])\n"
   ]
  },
  {
   "cell_type": "code",
   "execution_count": 6,
   "metadata": {
    "collapsed": false
   },
   "outputs": [
    {
     "data": {
      "text/plain": [
       "'Written map to ../talkmap/'"
      ]
     },
     "execution_count": 6,
     "metadata": {},
     "output_type": "execute_result"
    }
   ],
   "source": [
    "m = getorg.orgmap.create_map_obj()\n",
    "getorg.orgmap.output_html_cluster_map(location_dict, folder_name=\"../talkmap\", hashed_usernames=False)"
   ]
  },
  {
   "cell_type": "code",
   "execution_count": null,
   "metadata": {
    "collapsed": true
   },
   "outputs": [],
   "source": []
  }
 ],
 "metadata": {
  "anaconda-cloud": {},
  "kernelspec": {
   "display_name": "Python 3",
   "language": "python",
   "name": "python3"
  },
  "language_info": {
   "codemirror_mode": {
    "name": "ipython",
    "version": 3
   },
   "file_extension": ".py",
   "mimetype": "text/x-python",
   "name": "python",
   "nbconvert_exporter": "python",
   "pygments_lexer": "ipython3",
   "version": "3.11.5"
  }
 },
 "nbformat": 4,
 "nbformat_minor": 0
}
